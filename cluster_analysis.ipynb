{
 "metadata": {
  "name": "",
  "signature": "sha256:dce67be0cc77af3888b68f2061de12e41dc997bd54cce58e2611c86454afdac6"
 },
 "nbformat": 3,
 "nbformat_minor": 0,
 "worksheets": [
  {
   "cells": [
    {
     "cell_type": "code",
     "collapsed": false,
     "input": [
      "import numpy as np\n",
      "import pandas as pd\n",
      "import nltk\n",
      "import re\n",
      "import os\n",
      "import codecs\n",
      "from sklearn import feature_extraction"
     ],
     "language": "python",
     "metadata": {},
     "outputs": [],
     "prompt_number": 107
    },
    {
     "cell_type": "code",
     "collapsed": false,
     "input": [
      "filenames = os.listdir('/Users/brandomr/Google Drive/Sites/docs')\n",
      "#gets list of filenames in the document directory\n",
      "\n",
      "len(filenames)\n",
      "#tests how many files are in the docs folder"
     ],
     "language": "python",
     "metadata": {},
     "outputs": [
      {
       "metadata": {},
       "output_type": "pyout",
       "prompt_number": 108,
       "text": [
        "60"
       ]
      }
     ],
     "prompt_number": 108
    },
    {
     "cell_type": "code",
     "collapsed": false,
     "input": [
      "corpora = []\n",
      "\n",
      "for i in filenames:\n",
      "    doc = open('/Users/brandomr/Google Drive/Sites/docs/'+ i)\n",
      "    text = doc.read()\n",
      "    #grabs the document as variable text\n",
      "    \n",
      "    text = nltk.clean_html(text)\n",
      "    #strips html formatting\n",
      "    \n",
      "    text = text.replace('&#xa0;', '\\xA0')\n",
      "    text = text.decode('utf-8', 'ignore')\n",
      "    #gets rid of non-break space html and converts to unicode\n",
      "    \n",
      "    corpora.append(text)\n",
      "    #adds to corpora"
     ],
     "language": "python",
     "metadata": {},
     "outputs": [],
     "prompt_number": 109
    },
    {
     "cell_type": "code",
     "collapsed": false,
     "input": [
      "titles = []\n",
      "\n",
      "for i in range(0,len(corpora)):\n",
      "    titles.append(i)"
     ],
     "language": "python",
     "metadata": {},
     "outputs": [],
     "prompt_number": 110
    },
    {
     "cell_type": "code",
     "collapsed": false,
     "input": [
      "stopwords = nltk.corpus.stopwords.words('english')"
     ],
     "language": "python",
     "metadata": {},
     "outputs": [],
     "prompt_number": 111
    },
    {
     "cell_type": "code",
     "collapsed": false,
     "input": [
      "from nltk.stem.snowball import SnowballStemmer\n",
      "\n",
      "stemmer = SnowballStemmer(\"english\")"
     ],
     "language": "python",
     "metadata": {},
     "outputs": [],
     "prompt_number": 112
    },
    {
     "cell_type": "code",
     "collapsed": false,
     "input": [
      "def tokenize_and_stem(text):\n",
      "    tokens = [word for sent in nltk.sent_tokenize(text) for word in nltk.word_tokenize(sent)]\n",
      "    filtered_tokens = []\n",
      "    # filter out any tokens not containing letters (e.g., numeric tokens, raw punctuation)\n",
      "    for token in tokens:\n",
      "        if re.search('[a-zA-Z]', token):\n",
      "            filtered_tokens.append(token)\n",
      "    stems = [stemmer.stem(t) for t in filtered_tokens]\n",
      "    return stems"
     ],
     "language": "python",
     "metadata": {},
     "outputs": [],
     "prompt_number": 113
    },
    {
     "cell_type": "code",
     "collapsed": false,
     "input": [
      "vectorizer = feature_extraction.text.CountVectorizer(tokenizer=tokenize_and_stem, \n",
      "                                                     ngram_range=(1, 3), stop_words=stopwords)"
     ],
     "language": "python",
     "metadata": {},
     "outputs": [],
     "prompt_number": 114
    },
    {
     "cell_type": "code",
     "collapsed": false,
     "input": [
      "analyze = vectorizer.build_analyzer()"
     ],
     "language": "python",
     "metadata": {},
     "outputs": [],
     "prompt_number": 115
    },
    {
     "cell_type": "code",
     "collapsed": false,
     "input": [
      "x = vectorizer.fit_transform(corpora)"
     ],
     "language": "python",
     "metadata": {},
     "outputs": [],
     "prompt_number": 116
    },
    {
     "cell_type": "code",
     "collapsed": false,
     "input": [
      "x"
     ],
     "language": "python",
     "metadata": {},
     "outputs": [
      {
       "metadata": {},
       "output_type": "pyout",
       "prompt_number": 117,
       "text": [
        "<60x94483 sparse matrix of type '<type 'numpy.int64'>'\n",
        "\twith 125709 stored elements in Compressed Sparse Row format>"
       ]
      }
     ],
     "prompt_number": 117
    },
    {
     "cell_type": "code",
     "collapsed": false,
     "input": [
      "len(vectorizer.get_feature_names())"
     ],
     "language": "python",
     "metadata": {},
     "outputs": [
      {
       "metadata": {},
       "output_type": "pyout",
       "prompt_number": 118,
       "text": [
        "94483"
       ]
      }
     ],
     "prompt_number": 118
    },
    {
     "cell_type": "code",
     "collapsed": false,
     "input": [
      "print vectorizer.vocabulary_.get('department')"
     ],
     "language": "python",
     "metadata": {},
     "outputs": [
      {
       "output_type": "stream",
       "stream": "stdout",
       "text": [
        "22910\n"
       ]
      }
     ],
     "prompt_number": 119
    },
    {
     "cell_type": "code",
     "collapsed": false,
     "input": [
      "from sklearn.feature_extraction.text import TfidfTransformer\n",
      "\n",
      "x = TfidfTransformer(x)"
     ],
     "language": "python",
     "metadata": {},
     "outputs": [],
     "prompt_number": 120
    },
    {
     "cell_type": "code",
     "collapsed": false,
     "input": [
      "x"
     ],
     "language": "python",
     "metadata": {},
     "outputs": [
      {
       "metadata": {},
       "output_type": "pyout",
       "prompt_number": 121,
       "text": [
        "TfidfTransformer(norm=<60x94483 sparse matrix of type '<type 'numpy.int64'>'\n",
        "\twith 125709 stored elements in Compressed Sparse Row format>,\n",
        "         smooth_idf=True, sublinear_tf=False, use_idf=True)"
       ]
      }
     ],
     "prompt_number": 121
    },
    {
     "cell_type": "code",
     "collapsed": false,
     "input": [
      "from sklearn.feature_extraction.text import TfidfVectorizer\n",
      "\n",
      "tfidf_vectorizer = TfidfVectorizer(tokenizer=tokenize_and_stem, stop_words=stopwords, ngram_range=(1, 3))\n",
      "\n",
      "tfidf_matrix = tfidf_vectorizer.fit_transform(corpora)\n",
      "\n",
      "print tfidf_matrix.shape"
     ],
     "language": "python",
     "metadata": {},
     "outputs": [
      {
       "output_type": "stream",
       "stream": "stdout",
       "text": [
        "(60, 94483)\n"
       ]
      }
     ],
     "prompt_number": 122
    },
    {
     "cell_type": "code",
     "collapsed": false,
     "input": [
      "from sklearn.metrics.pairwise import cosine_similarity\n",
      "\n",
      "sim = 1 - cosine_similarity(tfidf_matrix[1], tfidf_matrix)"
     ],
     "language": "python",
     "metadata": {},
     "outputs": [],
     "prompt_number": 17
    },
    {
     "cell_type": "code",
     "collapsed": false,
     "input": [
      "sim"
     ],
     "language": "python",
     "metadata": {},
     "outputs": [
      {
       "metadata": {},
       "output_type": "pyout",
       "prompt_number": 18,
       "text": [
        "array([[  9.47399905e-01,   9.21485110e-15,   9.62871194e-01,\n",
        "          9.48626938e-01,   9.66871009e-01,   7.19944202e-01,\n",
        "          9.01061179e-01,   9.67722669e-01,   8.83485202e-01,\n",
        "          9.75600453e-01,   9.91798641e-01,   8.75833226e-01,\n",
        "          8.92055868e-01,   9.57071979e-01,   9.44574672e-01,\n",
        "          9.52282606e-01,   9.67344734e-01,   9.38000806e-01,\n",
        "          9.57796923e-01,   9.78693744e-01,   8.87432385e-01,\n",
        "          9.78239879e-01,   9.60999361e-01,   9.61220819e-01,\n",
        "          9.51152718e-01,   9.57465240e-01,   9.30628610e-01,\n",
        "          9.82612302e-01,   9.73972829e-01,   8.68732528e-01,\n",
        "          9.56830604e-01,   9.64768940e-01,   9.71697500e-01,\n",
        "          9.65997512e-01,   9.80665414e-01,   9.08171356e-01,\n",
        "          9.48755999e-01,   9.34830956e-01,   9.55327905e-01,\n",
        "          8.97581150e-01,   9.52188963e-01,   9.57330038e-01,\n",
        "          9.36278663e-01,   9.55006313e-01,   9.49072640e-01,\n",
        "          9.62026327e-01,   9.32914165e-01,   9.35515486e-01,\n",
        "          9.20260357e-01,   9.32857750e-01,   9.44211039e-01,\n",
        "          8.98610693e-01,   9.59293485e-01,   9.17778721e-01,\n",
        "          9.42460724e-01,   9.40768829e-01,   9.61761529e-01,\n",
        "          9.39364157e-01,   9.34119500e-01,   9.62469230e-01]])"
       ]
      }
     ],
     "prompt_number": 18
    },
    {
     "cell_type": "code",
     "collapsed": false,
     "input": [
      "from sklearn.metrics.pairwise import euclidean_distances\n",
      "\n",
      "dist = euclidean_distances(tfidf_matrix)\n",
      "\n",
      "dist = 1 - cosine_similarity(tfidf_matrix)"
     ],
     "language": "python",
     "metadata": {},
     "outputs": [],
     "prompt_number": 19
    },
    {
     "cell_type": "code",
     "collapsed": false,
     "input": [
      "dist"
     ],
     "language": "python",
     "metadata": {},
     "outputs": [
      {
       "metadata": {},
       "output_type": "pyout",
       "prompt_number": 20,
       "text": [
        "array([[  1.60982339e-14,   9.47399905e-01,   9.84751314e-01, ...,\n",
        "          9.28567588e-01,   9.64787837e-01,   9.72955618e-01],\n",
        "       [  9.47399905e-01,   9.21485110e-15,   9.62871194e-01, ...,\n",
        "          9.39364157e-01,   9.34119500e-01,   9.62469230e-01],\n",
        "       [  9.84751314e-01,   9.62871194e-01,  -8.88178420e-16, ...,\n",
        "          9.79428252e-01,   9.77984967e-01,   9.91854589e-01],\n",
        "       ..., \n",
        "       [  9.28567588e-01,   9.39364157e-01,   9.79428252e-01, ...,\n",
        "          4.44089210e-16,   9.24428532e-01,   9.69528243e-01],\n",
        "       [  9.64787837e-01,   9.34119500e-01,   9.77984967e-01, ...,\n",
        "          9.24428532e-01,  -7.77156117e-15,   9.13364549e-01],\n",
        "       [  9.72955618e-01,   9.62469230e-01,   9.91854589e-01, ...,\n",
        "          9.69528243e-01,   9.13364549e-01,  -1.99840144e-15]])"
       ]
      }
     ],
     "prompt_number": 20
    },
    {
     "cell_type": "code",
     "collapsed": false,
     "input": [
      "plt.close()"
     ],
     "language": "python",
     "metadata": {},
     "outputs": [],
     "prompt_number": 104
    },
    {
     "cell_type": "code",
     "collapsed": false,
     "input": [
      "i = 0\n",
      "for doc in corpora:\n",
      "    print str(i) + '---' + doc[0:250]\n",
      "    i+=1\n",
      "    print"
     ],
     "language": "python",
     "metadata": {},
     "outputs": [
      {
       "output_type": "stream",
       "stream": "stdout",
       "text": [
        "0---O\u0000\u0000\u0000\u0000\u0000\u0000  Sudan paper     SENSITIVE BUT UNCLASSIFIED December 26, 2012   FROM :  S/USSESSS - Princeton Lyman    SUBJECT: Our Policy Goals in Sudan and South Sudan  (SBU) Achieving stability within and between Sudan and South Sudan is vital to ensuring\n",
        "\n",
        "1---q\u0000\u0000\u0000\u0000\u0000\u0000  SSECC Policy Overview     UNCLASSIFIED December 22, 2012   FROM :  S/SECC - Todd Stern    SUBJECT: Policy Overview:  Office of Special Envoy for Climate Change (S/SECC)  (U)  Climate change is one of the biggest challenges facing the world ;\n",
        "\n",
        "2---8!\u0000\u0000\u0000\u0000\u0000\u0000  L issue paper - Treaty Priority List-FINAL     UNCLASSIFIED December 31, 2012   FROM :  L - Harold Hongju Koh    SUBJECT: Treaty Priority List for the 113 th Congress  (U) The Executive Branch traditionally sends each new Co ngress a t reat\n",
        "\n",
        "3---!\u0000\u0000\u0000\u0000\u0000\u0000  L issue paper -- Law of the Sea Convention-FINAL     UNCLASSIFIED December 31, 2012   FROM :  L - Harold Hongju  Koh    SUBJECT: Law of the Sea Convention  (U) The Administration has strongly supported U.S. accession to the Law of the Sea (L\n",
        "\n",
        "4---#\u0000\u0000\u0000\u0000\u0000\u0000  L issue paper -- public-private partnerships (final)     UNCLASSIFIED January 04, 2013   FROM :  L - Har old Hongju  Koh    SUBJECT: Public- Private Partnerships  (U) The Department and the entire U.S. g overnment have increasingly advocated\n",
        "\n",
        "5---yB\u0000\u0000\u0000\u0000\u0000\u0000  L issue paper -- Climate change - legal issues (2)     UNCLASSIFIED January 04, 2013   FROM :  L - Harold Hongju  Koh    SUBJECT: Climate Change Negotiations - Legal Issues  (U) The p arties to the UN Framework Convention on Climate Change \n",
        "\n",
        "6---\u0000\u0000\u0000\u0000\u0000\u0000  Speech -Regional Architecture in Asia - January 12 2010 - ipad     UNCLASSIFIED January 09, 2013   FROM :  EAP - Kurt M. Campbell    SUBJECT: Response to your January 8 Question on Secretary Clinton's Five Major Asia Speeches ( 3 of 5)  (U) Q\n",
        "\n",
        "7---\u0010\u001d",
        "\u0000\u0000\u0000\u0000\u0000\u0000 \r\n",
        "  \r\n",
        "   Response to your January 10 question on Ex-Im and OPIC - ipad \r\n",
        "   \r\n",
        "   \r\n",
        "   \r\n",
        "  \r\n",
        "  \r\n",
        "   \r\n",
        "    \r\n",
        "   \r\n",
        "   UNCLASSIFIED January 10, 2013 \r\n",
        "   \r\n",
        "   FROM :   SCA &ndash; Robert O. Blake  \r\n",
        "   SUBJECT: Response to your January 10 Q uest\n",
        "\n",
        "8---x\u0000\u0000\u0000\u0000\u0000\u0000 \r\n",
        "  \r\n",
        "   Article -Americas Pacific Century - November 2011 - ipad \r\n",
        "   \r\n",
        "   \r\n",
        "   \r\n",
        "  \r\n",
        "  \r\n",
        "   \r\n",
        "    \r\n",
        "   \r\n",
        "   UNCLASSIFIED January 09, 2013 \r\n",
        "   \r\n",
        "   FROM :   EAP &ndash; Kurt M. Campbell  \r\n",
        "   SUBJECT: Response to your January 8 Question on \n",
        "\n",
        "9---y0\u0000\u0000\u0000\u0000\u0000\u0000  Congressional Mandated Reports - iPad     UNCLASSIFIED January 11, 2013   FROM :  S/ES - John R. Bass    SUBJECT: Congressionally Mandated Reporting Requirements   The list below is based on information from H, M/PRI, and a 2010 OIG report \n",
        "\n",
        "10---#\f",
        "\u0000\u0000\u0000\u0000\u0000\u0000  Response to your January 4 Question on the GDP for Mexico and Canada     UNCLASSIFIED January 09, 2013   FROM :  WHA - Roberta S. Jacobson    SUBJECT: Response to your January 4 Question on the GDP for Mexico and Canada  Question: What is t\n",
        "\n",
        "11---Z\u0000\u0000\u0000\u0000\u0000\u0000  Speech - Americas Engagement in the Asia Pacific - October 28 2010 - ipad     UNCLASSIFIED January 09, 2013   FROM :  EAP - Kurt M. Campbell    SUBJECT: Response to your January 8 Question on Secretary Clinton's Five Major Asia Speeches ( 2 \n",
        "\n",
        "12----\u0000\u0000\u0000\u0000\u0000\u0000  Speech - Americas Pacific Century - November 10 2011 - ipad     UNCLASSIFIED January 09, 2013   FROM :  EAP - Kurt M. Campbell    SUBJECT: Response to your January 8 Question on Secretary Clinton's Five Major Asia Speeches (1 of 5)  (U) Ques\n",
        "\n",
        "13---  Egypt Diaspora     UNCLASSIFIED January 14, 2013   FROM :  NEA - Beth Jones , Acting   SUBJECT: Response to Your January 2 Question : Encouraging the Egyptian Diaspora's Investment in Egypt  (U)  Question: Ple ase address the issue of encouraging i\n",
        "\n",
        "14---\u0000\u0000\u0000\u0000\u0000\u0000  F - Gender in iPad format     UNCLASSIFIED January 08, 2013   FROM :  F - Robert Goldberg    SUBJECT: Response to January 2 Question on the Secretary's Gender Initiative  (U)  Question: Please provide a description of programs set to launch a\n",
        "\n",
        "15---\u001b\u0000\u0000\u0000\u0000\u0000\u0000  Response to your January 9 Question on Domestic Finance for Development - ipad     UNCLASSIFIED January 14, 2013   FROM :  EB - Jose W. Fernandez    SUBJECT: Response to January 9 Question :  Domestic Finance for Development  Question: Provi\n",
        "\n",
        "16---\u0018T\u0000\u0000\u0000\u0000\u0000\u0000  Counterterrorism Global Police Programming - ipad     UNCLASSIFIED January 10, 2013   FROM :  CT - Jerry P. Lanier , Acting   SUBJECT: Response to your January 8 Question on Counterterrorism Police Training  Question: Please provide informa\n",
        "\n",
        "17---$\u0000\u0000\u0000\u0000\u0000\u0000  China in Africa     UNCLASSIFIED January 14, 2013   FROM :  EAP - Kin Moy , Acting   SUBJECT: Response to Your January 2 Question :  China's Development E fforts and G rowing E conomic P resence in Africa and the Western H emisphere  Q. What\n",
        "\n",
        "18---pN\u0000\u0000\u0000\u0000\u0000\u0000  L issue paper -foreign official immunity (updated)     UNCLASSIFIED January 07, 2013   FROM :  L - Harold Hongju Koh    SUBJECT: Immunity of Foreign Officials Immunity of Foreign Officials  (U) In 2010, in Samantar v. Yousuf , the Supreme C\n",
        "\n",
        "19---s\f",
        "\u0000\u0000\u0000\u0000\u0000\u0000  BP Contractors in Iraq in iPad format     UNCLASSIFIED January 08, 2013   FROM :  BP - Barbara Retzlaff    SUBJECT: Response to Your January 2 Question on Contractors in Iraq  Question: What is the current number of contractors in Iraq?  (U\n",
        "\n",
        "20---\u06f0\u0000\u0000\u0000\u0000\u0000\u0000  Speech -Institute of Peace China Conference - March 7 2012 - ipad     UNCLASSIFIED January 09, 2013   FROM :  EAP - Kurt M. Campbell    SUBJECT: Response to your January 8 Question on Secretary Clinton's Five Major Asia Speeches ( 4 of 5)  (\n",
        "\n",
        "21---d\u0012\u0000\u0000\u0000\u0000\u0000\u0000  Humanitarian Assistance to Syrians     UNCLASSIFIED January 15, 2013   FROM :  PRM - A nne C. Richard    SUBJECT: Response to January 4 Question : Assistance to Syrian Refugees  (U) Question:  Please provide a breakdown of our humanitarian \n",
        "\n",
        "22---\u001b7\u0000\u0000\u0000\u0000\u0000\u0000  Entrepreneurship Programs - ipad     UNCLASSIFIED January 11, 2013   FROM :  EB - Jose W. Fernandez    SUBJECT: Entrepreneurship Programs  Global Entrepreneurship Program (GEP)  (SBU) GEP  is the State Department-led effort to promote entre\n",
        "\n",
        "23---&\u0000\u0000\u0000\u0000\u0000\u0000  13-01-15 Follow-Up Request for Sec-Designate - American Spaces  DATE:   UNCLASSIFIED January 15, 2013   FROM :  R - Tara Sonenshine    SUBJECT: Response to January 11 Question :  American Spaces  (U) Question: Provide a necdotes and examples\n",
        "\n",
        "24---k\u0017\u0000\u0000\u0000\u0000\u0000\u0000  Response to your January 9 Question on BRIDGE - ipad     UNCLASSIFIED January 11, 2013   FROM :  EB - Jose W. Fernandez    SUBJECT: Response to January 9 Question on Building Remittance Investment for Development Growth and Entrepreneurship\n",
        "\n",
        "25---O\u0000\u0000\u0000\u0000\u0000\u0000  L issue paper -foreign official immunity (updated)     UNCLASSIFIED January 07, 2013   FROM :  L - Harold Hongju Koh    SUBJECT: Immunity of Foreign Officials  (U) In 2010, in Samantar v. Yousuf , the Supreme Court agreed with the executive \n",
        "\n",
        "26---/\u0000\u0000\u0000\u0000\u0000\u0000  F - BP Value to Taxpayer - NEW TEMPLATE     UNCLASSIFIED January 16, 2013   FROM :  BP - Barbara Retzlaff and F - Robert Goldberg  SUBJECT: Response to Your January 2 Questions on State Department Value to the American Taxpayer  (U)  Questio\n",
        "\n",
        "27---\u0000\u0000\u0000\u0000\u0000\u0000  Foreign Leaders     UNCLASSIFIED January 22, 2013   FROM :  S/ES - John R. Bass    SUBJECT: Heads of State, Heads of Government, and Foreign Minister s for Selected Counties  (U)  NATO Allies  Albania Head of State: President of the Republic \n",
        "\n",
        "28---d9\u0000\u0000\u0000\u0000\u0000\u0000  Advisory committee     UNCLASSIFIED January 22, 2013   FROM :  L - Richard C. Visek    SUBJECT: Response to Your January 11 Question on Advisory Committees  (U) Question: Please provide a brief overview on the rules and restrictions concern\n",
        "\n",
        "29---\u001a\u0000\u0000\u0000\u0000\u0000\u0000  Response to your January 11 Question on Science-Based Actions to Avoid Dangerous Climate Change     UNCLASSIFIED January 22, 2013   FROM :  S/SECC - Todd Stern    SUBJECT: Response to your January 11 Question on Science-Based Actions to Avoi\n",
        "\n",
        "30---\u000e\u001e",
        "\u0000\u0000\u0000\u0000\u0000\u0000  Response to your January 11 Question on the Possible Ramifications of Permafrost Melt     UNCLASSIFIED January 22, 2013   FROM :  S/SECC - Todd Stern    SUBJECT: Response to your January 11 Question on Permafrost Melt  (U) Question:  Provid\n",
        "\n",
        "31---\u000b",
        "\u0000\u0000\u0000\u0000\u0000\u0000  Implementation of the Hague Convention on Choice of Courts Agreements     UNCLASSIFIED January 19, 2013   FROM :  L - Harold Hongju Ko    SUBJECT: Implementation of the Hague Convention on Choice of Courts Agreements  (U) On January 19, 2009\n",
        "\n",
        "32---'\u0000\u0000\u0000\u0000\u0000\u0000  Office of Art in Embassies - ipad     UNCLASSIFIED January 30, 2013   FROM :  OBO - Heather Townsend , Acting   SUBJECT: Art in Embassies   The A rt in Embassies Program  (U) For five decades, The Office of Art in Embassies (ART) has played \n",
        "\n",
        "33---+\u0000\u0000\u0000\u0000\u0000\u0000  Cultural Programming     UNCLASSIFIED January 30, 2013   FROM :  ECA - Ann Stock    SUBJECT: Response to Your January 28 Question on Cultural Programming  (U) Question: Please provide a description of the scope of cultural programming in the\n",
        "\n",
        "34---\u0016\u0000\u0000\u0000\u0000\u0000\u0000  Memo on Memorial Plaques     UNCLASSIFIED January 30, 2013   FROM :  A - Joyce Barr  SUBJECT: Response to your January 28 Question on the Plaques Honoring Fallen State Department Colleagues in and around the C Street Lobby  Question: Please \n",
        "\n",
        "35---E\u0000\u0000\u0000\u0000\u0000\u0000  Special Envoy History     UNCLASSIFIED January 29, 2013   FROM :  PA - Michael Hammer  SUBJECT: Response to your Question on the Historical Use of Special Envoys  Question: Please provide a brief history of the use of special envoys, includi\n",
        "\n",
        "36---\u001a@\u0000\u0000\u0000\u0000\u0000\u0000  DGHR Revised     UNCLASSIFIED November 06, 2012   FROM :  DGHR - Linda Thomas-Greenfield    SUBJECT: Policy Overview: Bureau of Human Resources ( DGHR )  (U) The Bureau of Human Resources (HR) has the critical responsibility of hiring, deve\n",
        "\n",
        "37---\u0006\\\u0000\u0000\u0000\u0000\u0000\u0000  A Bureau policy overview paper      UNCLASSIFIED November 08, 2012   FROM :  A - Joyce A. Barr    SUBJECT: Policy Overview: Bureau of Administration   (U) The Bureau of Administration (A) employs nearly 1,000 full-time permanent Civil Servi\n",
        "\n",
        "38---K\u001e",
        "\u0000\u0000\u0000\u0000\u0000\u0000  OBO Revised     UNCLASSIFIED December 06, 2012   FROM :  OBO - Lydia Muniz    SUBJECT: Policy Overview: Bureau of Overseas Building Operations (OBO)  (U) The mission of the Bureau of Overseas Buildings Operations (OBO) is to provide secure,\n",
        "\n",
        "39---\u0012O\u0000\u0000\u0000\u0000\u0000\u0000  OES Revised     UNCLASSIFIED November 06, 2012   FROM :  OES - Kerri-Ann Jones    SUBJECT: Policy Overview : Oceans and International Environmental and Science Affairs (OES)  (U)  The Bureau of Oceans, International Environmental and Scient\n",
        "\n",
        "40---`7\u0000\u0000\u0000\u0000\u0000\u0000  SSRGIA Overview paper     UNCLASSIFIED November 06, 2012   FROM :  S/SRGIA - Reta Jo Lewis    SUBJECT: Policy Overview: Office of the S pecial Representative for Global Intergovernmental Affairs (S/SRGIA)  Building Relationships Between S t\n",
        "\n",
        "41---!!\u0000\u0000\u0000\u0000\u0000\u0000  ECA Policy Overview     UNCLASSIFIED November 06, 2012   FROM :  ECA - Ann Stock    SUBJECT: Policy Overview: Educational and Cultural Affairs (ECA)  (U) ECA's people-to-people exchanges advance U.S. foreign policy objectives around the wor\n",
        "\n",
        "42---  BP Policy Overview     UNCLASSIFIED November 05, 2012   FROM :  BP - Barbara Retzlaff    SUBJECT: Policy Overview: Bureau of Budget and Policy (BP)  (U) The Bureau of Budget and Planning (BP) funds the operations of the Department at diplomatic pos\n",
        "\n",
        "43---H\u0000\u0000\u0000\u0000\u0000\u0000  FSI Revised     UNCLASSIFIED November 06, 2012   FROM :  FSI - Ruth A. Whiteside    SUBJECT: Policy Overview : Foreign Service Institute ( FSI )  (U) The Foreign Service Institute ( FSI ) is responsible for training the Department's workforc\n",
        "\n",
        "44---*\u0000\u0000\u0000\u0000\u0000\u0000  IIP Policy Overview     UNCLASSIFIED November 07, 2012   FROM :  IIP - Dawn L. McCall  SUBJECT: Policy Overview: International Information Programs ( IIP )  (U) Over the last two years, the Bureau of International Information Programs ( IIP \n",
        "\n",
        "45---!\u0000\u0000\u0000\u0000\u0000\u0000  20121127 - Transitional Justice Voluntary Paper     UNCLASSIFIED November 25, 2012   FROM :  GCJ - Beth Van Schaack , Acting   SUBJECT: Transitional Justice and Stability  (U) Several countries around the world are emerging, or have recently\n",
        "\n",
        "46---\u0003l\u0000\u0000\u0000\u0000\u0000\u0000  SGAC Overview Paper     UNCLASSIFIED November 06, 2012   FROM :  S/GAC - Eric Goosby    SUBJECT: Policy Overview: Office of the Global AIDS Coordinator (S/GAC)  (U) Since its inception in 2004, the U.S. President's Emergency Plan for AIDS R\n",
        "\n",
        "47---\u00136\u0000\u0000\u0000\u0000\u0000\u0000  PRM     UNCLASSIFIED November 06, 2012   FROM :  PRM - Anne C. Richard    SUBJECT: Policy Overview: Population, Refugees, and Migration ( PRM )  (U) The Bureau of Population, Refugees, and Migration saves lives and projects U.S. leadership \n",
        "\n",
        "48---H\u0000\u0000\u0000\u0000\u0000\u0000  SGHI Policy Overview Paper for Incoming Transition Team_11.06.2012     UNCLASSIFIED November 06, 2012   FROM :  S/GHI - Lois Quam    SUBJECT: Policy Overview :  Global Health Initiative (S/GHI)  (U) The importance of elevated and coordinated\n",
        "\n",
        "49---.q\u0000\u0000\u0000\u0000\u0000\u0000  SGAC Overview Paper     UNCLASSIFIED November 06, 2012   FROM :  S/GAC - Ambassador Eric Goosby , M.D.    SUBJECT: Policy Overview: Office of the Global AIDS Coordinator (S/ GAC )  (U) Since its inception in 2004, the U.S. President's Emerg\n",
        "\n",
        "50---2\u0000\u0000\u0000\u0000\u0000\u0000  Policy Overview Paper STAS     UNCLASSIFIED November 05, 2012   FROM :  STAS - E. William Colglazier    SUBJECT: Policy Overview: Office of the Science and Technology Adviser to the Secretary ( STAS )  (U) Whole-of-society science diplomacy \n",
        "\n",
        "51---0Q\u0000\u0000\u0000\u0000\u0000\u0000  M-PRI on Greening Diplomacy     UNCLASSIFIED November 20, 2012   FROM :  M/PRI - Alaina B. Teplitz  SUBJECT: Greening Diplomacy Initiative  (U) The Department of State 's Environment, Energy and Sustainability Portfolio, originally a grassr\n",
        "\n",
        "52---B@\u0000\u0000\u0000\u0000\u0000\u0000  MED Revised     UNCLASSIFIED November 02, 2012   FROM :  MED - Gary Penner    SUBJECT: Policy Overview: Office of Medical Services ( MED )  (U) The mission of the Office of Medical Services ( MED ) is to safeguard and promote the health and\n",
        "\n",
        "53---ZE\u0000\u0000\u0000\u0000\u0000\u0000  EB Transition Issue Paper     UNCLASSIFIED November 14, 2012   FROM :  EB - Jose W. Fernandez    SUBJECT: Policy Overview: Bureau of Economic and Business Affairs ( EB )  (U)  The Economic and Business Affairs Bureau ( EB ) is responsible f\n",
        "\n",
        "54---d\u0000\u0000\u0000\u0000\u0000\u0000  Overview Paper for the Office of the Chief of Protocol     UNCLASSIFIED November 15, 2012   FROM :  S/CPR - Capricia Penavic Marshall    SUBJECT: Policy Overview: Office of the Chief of Protocol  (U) The Office of the Chief of Protocol (S/CP\n",
        "\n",
        "55---Ii\u0000\u0000\u0000\u0000\u0000\u0000  IRM Policy Overview     UNCLASSIFIED November 02, 2012   FROM :  IRM - Steven Taylor , Acting   SUBJECT: Policy Overview: Information Resource Management (IRM)  (U) The mission of the Bureau of Information Resource Management (IRM) is to pr\n",
        "\n",
        "56---\u001f\u0000\u0000\u0000\u0000\u0000\u0000  CSO Revised     UNCLASSIFIED November 09, 2012   FROM :  CSO - Rick Barton    SUBJECT: Policy Overview: Conflict &amp; Stabilization Operations (CSO)  Overview Achieving Success in Conflict Prevention, Crisis Response (U) The U.S. government\n",
        "\n",
        "57---Q\u0000\u0000\u0000\u0000\u0000\u0000  GWI Policy Paper - new template     UNCLASSIFIED November 19, 2012   FROM :  S/GWI - Melanne  Verveer    SUBJECT: Policy Overview: Office of Global Women's Issues (S/GWI)  ( U) Investing in women and girls is essential to achieving successfu\n",
        "\n",
        "58---k\u0000\u0000\u0000\u0000\u0000\u0000 \r\n",
        "  \r\n",
        "   SAIT Issue Paper for Clearance Final \r\n",
        "   \r\n",
        "   \r\n",
        "   \r\n",
        "  \r\n",
        "  \r\n",
        "   \r\n",
        "   \r\n",
        "   UNCLASSIFIED December 07, 2012 \r\n",
        "   FROM:  S/SAIT &ndash; Alec Ross \r\n",
        "   \r\n",
        "   SUBJECT: Policy Overview: Office of the Senior Advisor for Innovation and Techno\n",
        "\n",
        "59---\u001f\u0000\u0000\u0000\u0000\u0000\u0000 \r\n",
        "  \r\n",
        "   Transition Memo--Issues Paper for the Transition TeamV3 \r\n",
        "   \r\n",
        "   \r\n",
        "   \r\n",
        "  \r\n",
        "  \r\n",
        "   \r\n",
        "    \r\n",
        "   \r\n",
        "   UNCLASSIFIED November 28, 2012 \r\n",
        "   \r\n",
        "   FROM :   S/SRMC &ndash; Farah A. Pandith \r\n",
        "    \r\n",
        "   SUBJECT: Policy Overview &ndash; Special\n",
        "\n"
       ]
      }
     ],
     "prompt_number": 25
    },
    {
     "cell_type": "code",
     "collapsed": false,
     "input": [
      "###2nd attempt looks like it fits better\n",
      "\n",
      "from sklearn.feature_extraction.text import CountVectorizer\n",
      "\n",
      "vectorizer = CountVectorizer(tokenizer=tokenize_and_stem, stop_words=stopwords)\n",
      "\n",
      "dtm = vectorizer.fit_transform(corpora)  # a sparse matrix\n",
      "\n",
      "vocab = vectorizer.get_feature_names()  # a list"
     ],
     "language": "python",
     "metadata": {},
     "outputs": [],
     "prompt_number": 77
    },
    {
     "cell_type": "code",
     "collapsed": false,
     "input": [
      "type(dtm)\n",
      "\n",
      "dtm = dtm.toarray()  # convert to a regular array\n",
      "\n",
      "vocab = np.array(vocab)"
     ],
     "language": "python",
     "metadata": {},
     "outputs": [],
     "prompt_number": 78
    },
    {
     "cell_type": "code",
     "collapsed": false,
     "input": [
      "dist = euclidean_distances(dtm)"
     ],
     "language": "python",
     "metadata": {},
     "outputs": [],
     "prompt_number": 49
    },
    {
     "cell_type": "code",
     "collapsed": false,
     "input": [
      "dist = 1 - cosine_similarity(dtm)"
     ],
     "language": "python",
     "metadata": {},
     "outputs": [],
     "prompt_number": 79
    },
    {
     "cell_type": "code",
     "collapsed": false,
     "input": [
      "from sklearn.cluster import KMeans\n",
      "\n",
      "num_clusters = 8\n",
      "\n",
      "km = KMeans(n_clusters=num_clusters)\n",
      "\n",
      "km = km.fit(pos)"
     ],
     "language": "python",
     "metadata": {},
     "outputs": [],
     "prompt_number": 63
    },
    {
     "cell_type": "code",
     "collapsed": false,
     "input": [
      "clusters = km.fit_predict(pos)"
     ],
     "language": "python",
     "metadata": {},
     "outputs": [],
     "prompt_number": 94
    },
    {
     "cell_type": "code",
     "collapsed": false,
     "input": [
      "clusters = clusters.tolist()"
     ],
     "language": "python",
     "metadata": {},
     "outputs": [],
     "prompt_number": 95
    },
    {
     "cell_type": "code",
     "collapsed": false,
     "input": [
      "len(clusters)"
     ],
     "language": "python",
     "metadata": {},
     "outputs": [
      {
       "metadata": {},
       "output_type": "pyout",
       "prompt_number": 96,
       "text": [
        "60"
       ]
      }
     ],
     "prompt_number": 96
    },
    {
     "cell_type": "code",
     "collapsed": false,
     "input": [
      "from pylab import *\n",
      "\n",
      "cm = get_cmap('gist_rainbow')\n",
      "for i in range(num_clusters):\n",
      "    color = cm(1.*i/num_clusters)  # color will now be an RGBA tuple\n",
      "\n",
      "# or if you really want a generator:\n",
      "cgen = (cm(1.*i/num_clusters) for i in range(num_clusters))"
     ],
     "language": "python",
     "metadata": {},
     "outputs": [],
     "prompt_number": 69
    },
    {
     "cell_type": "code",
     "collapsed": false,
     "input": [
      "cgen"
     ],
     "language": "python",
     "metadata": {},
     "outputs": [
      {
       "metadata": {},
       "output_type": "pyout",
       "prompt_number": 73,
       "text": [
        "<generator object <genexpr> at 0x11244fcd0>"
       ]
      }
     ],
     "prompt_number": 73
    },
    {
     "cell_type": "code",
     "collapsed": false,
     "input": [
      "color"
     ],
     "language": "python",
     "metadata": {},
     "outputs": [
      {
       "metadata": {},
       "output_type": "pyout",
       "prompt_number": 74,
       "text": [
        "(0.58930093776641124, 0.0, 1.0, 1.0)"
       ]
      }
     ],
     "prompt_number": 74
    },
    {
     "cell_type": "code",
     "collapsed": false,
     "input": [
      "import os  # for os.path.basename\n",
      "\n",
      "import matplotlib.pyplot as plt\n",
      "\n",
      "from sklearn.manifold import MDS\n",
      "\n",
      "# two components as we're plotting points in a two-dimensional plane\n",
      "# \"precomputed\" because we provide a distance matrix\n",
      "# we will also specify `random_state` so the plot is reproducible.\n",
      "mds = MDS(n_components=2, dissimilarity=\"precomputed\", random_state=1)\n",
      "\n",
      "pos = mds.fit_transform(dist)  # shape (n_components, n_samples)\n",
      "\n",
      "xs, ys = pos[:, 0], pos[:, 1]\n",
      "\n",
      "names = titles\n",
      "\n",
      "# color-blind-friendly palette\n",
      "for x, y, cluster in zip(xs, ys, clusters):\n",
      "    plt.scatter(x, y)\n",
      "    plt.text(x, y, cluster) \n",
      "\n",
      "plt.show()"
     ],
     "language": "python",
     "metadata": {},
     "outputs": [],
     "prompt_number": 106
    },
    {
     "cell_type": "code",
     "collapsed": false,
     "input": [],
     "language": "python",
     "metadata": {},
     "outputs": []
    }
   ],
   "metadata": {}
  }
 ]
}