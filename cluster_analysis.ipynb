{
 "metadata": {
  "name": "",
  "signature": "sha256:58c3a09c05a34dbc7cb17ed665d5f68399463f964d492136374768a7b0a19e6d"
 },
 "nbformat": 3,
 "nbformat_minor": 0,
 "worksheets": [
  {
   "cells": [
    {
     "cell_type": "code",
     "collapsed": false,
     "input": [
      "import numpy as np\n",
      "import pandas as pd\n",
      "import nltk\n",
      "import re\n",
      "import os\n",
      "import codecs\n",
      "from sklearn import feature_extraction"
     ],
     "language": "python",
     "metadata": {},
     "outputs": [],
     "prompt_number": 375
    },
    {
     "cell_type": "code",
     "collapsed": false,
     "input": [
      "titles = open('title_list.txt').read().split('\\n')\n",
      "titles = titles[:100]\n",
      "\n",
      "links = open('link_list.txt').read().split('\\n')\n",
      "links = links[:100]\n",
      "\n",
      "synopses = open('synopses_list.txt').read().split('\\n BREAKS HERE')\n",
      "synopses = synopses[:100]\n",
      "\n",
      "synopses_clean = []\n",
      "\n",
      "for text in synopses:\n",
      "    text = nltk.clean_html(text)\n",
      "    #strips html formatting\n",
      "    \n",
      "    text = text.replace('\\xef', '')\n",
      "    text = text.replace('&#xa0;', '\\xA0')\n",
      "    text = text.decode('utf-8', 'ignore')\n",
      "    #gets rid of non-break space html and converts to unicode\n",
      "    synopses_clean.append(text)\n",
      "\n",
      "synopses = synopses_clean\n",
      "    \n",
      "    \n",
      "genres = open('genres_list.txt').read().split('\\n')\n",
      "genres = genres[:100]\n",
      "\n",
      "print(str(len(titles)) + ' titles')\n",
      "print(str(len(links)) + ' links')\n",
      "print(str(len(synopses)) + ' synopses')\n",
      "print(str(len(genres)) + ' genres')"
     ],
     "language": "python",
     "metadata": {},
     "outputs": [
      {
       "output_type": "stream",
       "stream": "stdout",
       "text": [
        "100 titles\n",
        "100 links\n",
        "100 synopses\n",
        "100 genres\n"
       ]
      }
     ],
     "prompt_number": 380
    },
    {
     "cell_type": "code",
     "collapsed": false,
     "input": [
      "# generates index for each item in the corpora (in this case it's just rank)\n",
      "\n",
      "ranks = []\n",
      "\n",
      "for i in range(0,len(titles)):\n",
      "    ranks.append(i)"
     ],
     "language": "python",
     "metadata": {},
     "outputs": [],
     "prompt_number": 381
    },
    {
     "cell_type": "code",
     "collapsed": false,
     "input": [
      "# load nltk's English stopwords as variable called 'stopwords'\n",
      "\n",
      "stopwords = nltk.corpus.stopwords.words('english')"
     ],
     "language": "python",
     "metadata": {},
     "outputs": [],
     "prompt_number": 382
    },
    {
     "cell_type": "code",
     "collapsed": false,
     "input": [
      "# load nltk's SnowballStemmer as variabled 'stemmer'\n",
      "\n",
      "from nltk.stem.snowball import SnowballStemmer\n",
      "\n",
      "stemmer = SnowballStemmer(\"english\")"
     ],
     "language": "python",
     "metadata": {},
     "outputs": [],
     "prompt_number": 383
    },
    {
     "cell_type": "code",
     "collapsed": false,
     "input": [
      "# here I define a tokenizer and stemmer which returns the set of stems in the text that it is passed\n",
      "\n",
      "def tokenize_and_stem(text):\n",
      "    # first tokenize by sentence, then by word to ensure that punctuation is caught as it's own token\n",
      "    tokens = [word for sent in nltk.sent_tokenize(text) for word in nltk.word_tokenize(sent)]\n",
      "    filtered_tokens = []\n",
      "    # filter out any tokens not containing letters (e.g., numeric tokens, raw punctuation)\n",
      "    for token in tokens:\n",
      "        if re.search('[a-zA-Z]', token):\n",
      "            filtered_tokens.append(token)\n",
      "    stems = [stemmer.stem(t) for t in filtered_tokens]\n",
      "    return stems\n",
      "\n",
      "\n",
      "def tokenize_only(text):\n",
      "    # first tokenize by sentence, then by word to ensure that punctuation is caught as it's own token\n",
      "    tokens = [word.lower() for sent in nltk.sent_tokenize(text) for word in nltk.word_tokenize(sent)]\n",
      "    filtered_tokens = []\n",
      "    # filter out any tokens not containing letters (e.g., numeric tokens, raw punctuation)\n",
      "    for token in tokens:\n",
      "        if re.search('[a-zA-Z]', token):\n",
      "            filtered_tokens.append(token)\n",
      "    return filtered_tokens"
     ],
     "language": "python",
     "metadata": {},
     "outputs": [],
     "prompt_number": 384
    },
    {
     "cell_type": "code",
     "collapsed": false,
     "input": [
      "totalvocab_stemmed = []\n",
      "totalvocab_tokenized = []\n",
      "for i in synopses:\n",
      "    allwords_stemmed = tokenize_and_stem(i)\n",
      "    totalvocab_stemmed.extend(allwords_stemmed)\n",
      "    \n",
      "    allwords_tokenized = tokenize_only(i)\n",
      "    totalvocab_tokenized.extend(allwords_tokenized)"
     ],
     "language": "python",
     "metadata": {},
     "outputs": [],
     "prompt_number": 385
    },
    {
     "cell_type": "code",
     "collapsed": false,
     "input": [
      "print(len(totalvocab_stemmed))\n",
      "\n",
      "print(len(totalvocab_tokenized))"
     ],
     "language": "python",
     "metadata": {},
     "outputs": [
      {
       "output_type": "stream",
       "stream": "stdout",
       "text": [
        "164675\n",
        "164675\n"
       ]
      }
     ],
     "prompt_number": 386
    },
    {
     "cell_type": "code",
     "collapsed": false,
     "input": [
      "print(totalvocab_stemmed[:10], end='')\n",
      "print()\n",
      "print(totalvocab_tokenized[:10], end='')"
     ],
     "language": "python",
     "metadata": {},
     "outputs": [
      {
       "output_type": "stream",
       "stream": "stdout",
       "text": [
        "[u'plot', u'edit', u'edit', u'edit', u'on', u'the', u'day', u'of', u'his', u'onli']\n",
        "[u'plot', u'edit', u'edit', u'edit', u'on', u'the', u'day', u'of', u'his', u'only']"
       ]
      }
     ],
     "prompt_number": 387
    },
    {
     "cell_type": "code",
     "collapsed": false,
     "input": [
      "vocab_frame = pd.DataFrame({'words': totalvocab_tokenized}, index = totalvocab_stemmed)"
     ],
     "language": "python",
     "metadata": {},
     "outputs": [],
     "prompt_number": 388
    },
    {
     "cell_type": "code",
     "collapsed": false,
     "input": [
      "str(vocab_frame.ix['wed'].values.tolist()[0][0])"
     ],
     "language": "python",
     "metadata": {},
     "outputs": [
      {
       "metadata": {},
       "output_type": "pyout",
       "prompt_number": 389,
       "text": [
        "'wedding'"
       ]
      }
     ],
     "prompt_number": 389
    },
    {
     "cell_type": "code",
     "collapsed": false,
     "input": [
      "from sklearn.feature_extraction.text import TfidfVectorizer\n",
      "\n",
      "tfidf_vectorizer = TfidfVectorizer(max_df=0.4, max_features=10000,\n",
      "                                 min_df=0.1, stop_words='english',\n",
      "                                 use_idf=True, tokenizer=tokenize_and_stem)\n",
      "\n",
      "%time tfidf_matrix = tfidf_vectorizer.fit_transform(synopses)\n",
      "\n",
      "print(tfidf_matrix.shape)"
     ],
     "language": "python",
     "metadata": {},
     "outputs": [
      {
       "output_type": "stream",
       "stream": "stdout",
       "text": [
        "CPU times: user 14.4 s, sys: 143 ms, total: 14.5 s\n",
        "Wall time: 17.3 s\n",
        "(100, 543)\n"
       ]
      }
     ],
     "prompt_number": 390
    },
    {
     "cell_type": "code",
     "collapsed": false,
     "input": [
      "terms = tfidf_vectorizer.get_feature_names()"
     ],
     "language": "python",
     "metadata": {},
     "outputs": [],
     "prompt_number": 391
    },
    {
     "cell_type": "code",
     "collapsed": false,
     "input": [
      "#from sklearn.pipeline import make_pipeline\n",
      "#from sklearn.preprocessing import Normalizer\n",
      "#from sklearn.decomposition import TruncatedSVD\n",
      "\n",
      "#svd = TruncatedSVD(1000)\n",
      "#lsa = make_pipeline(svd, Normalizer(copy=False))\n",
      "\n",
      "#tfidf_matrix.LSA = lsa.fit_transform(tfidf_matrix)"
     ],
     "language": "python",
     "metadata": {},
     "outputs": [],
     "prompt_number": 392
    },
    {
     "cell_type": "code",
     "collapsed": false,
     "input": [
      "from sklearn.metrics.pairwise import euclidean_distances\n",
      "#dist = euclidean_distances(tfidf_matrix)\n",
      "\n",
      "\n",
      "from sklearn.metrics.pairwise import cosine_similarity\n",
      "dist = 1 - cosine_similarity(tfidf_matrix)"
     ],
     "language": "python",
     "metadata": {},
     "outputs": [],
     "prompt_number": 393
    },
    {
     "cell_type": "code",
     "collapsed": false,
     "input": [
      "from sklearn.feature_extraction.text import CountVectorizer\n",
      "\n",
      "vectorizer = CountVectorizer(tokenizer=tokenize_and_stem, stop_words=stopwords)\n",
      "\n",
      "%time dtm = vectorizer.fit_transform(synopses)  # a sparse matrix\n",
      "\n",
      "vocab = vectorizer.get_feature_names()  # a list"
     ],
     "language": "python",
     "metadata": {},
     "outputs": [
      {
       "output_type": "stream",
       "stream": "stdout",
       "text": [
        "CPU times: user 17 s, sys: 155 ms, total: 17.2 s\n",
        "Wall time: 19.7 s\n"
       ]
      }
     ],
     "prompt_number": 394
    },
    {
     "cell_type": "code",
     "collapsed": false,
     "input": [
      "type(dtm)\n",
      "\n",
      "dtm = dtm.toarray()  # convert to a regular array\n",
      "\n",
      "vocab = np.array(vocab)"
     ],
     "language": "python",
     "metadata": {},
     "outputs": [],
     "prompt_number": 395
    },
    {
     "cell_type": "code",
     "collapsed": false,
     "input": [
      "from sklearn.metrics.pairwise import cosine_similarity\n",
      "\n",
      "#dist = 1- cosine_similarity(dtm)"
     ],
     "language": "python",
     "metadata": {},
     "outputs": [],
     "prompt_number": 396
    },
    {
     "cell_type": "code",
     "collapsed": false,
     "input": [
      "from pattern.vector import Document, Model, KMEANS, distance, COSINE\n",
      "\n",
      "synopses_docs = [Document(synopses[i], name=titles[i]) for i in range(len(synopses))]\n",
      "\n",
      "m = Model(documents = synopses_docs)\n",
      "\n",
      "movieclusters = m.cluster(method=KMEANS, k=20)"
     ],
     "language": "python",
     "metadata": {},
     "outputs": [],
     "prompt_number": 397
    },
    {
     "cell_type": "code",
     "collapsed": false,
     "input": [
      "for i in movieclusters:\n",
      "    print(i)\n",
      "    print()"
     ],
     "language": "python",
     "metadata": {},
     "outputs": [
      {
       "output_type": "stream",
       "stream": "stdout",
       "text": [
        "[Document(id='Oxcy1Sr-19', name='West Side Story'), Document(id='Oxcy1Sr-61', name='The Exorcist'), Document(id='Oxcy1Sr-42', name='The Philadelphia Story'), Document(id='Oxcy1Sr-47', name='Ben-Hur'), Document(id='Oxcy1Sr-72', name='Annie Hall')]\n",
        "\n",
        "[Document(id='Oxcy1Sr-41', name='A Streetcar Named Desire'), Document(id='Oxcy1Sr-26', name=\"Singin' in the Rain\"), Document(id='Oxcy1Sr-90', name='Mutiny on the Bounty'), Document(id='Oxcy1Sr-46', name='My Fair Lady'), Document(id='Oxcy1Sr-97', name='Rear Window')]\n",
        "\n",
        "[Document(id='Oxcy1Sr-4', name='Raging Bull'), Document(id='Oxcy1Sr-60', name='Goodfellas'), Document(id='Oxcy1Sr-79', name='The Grapes of Wrath'), Document(id='Oxcy1Sr-30', name='Dr. Strangelove or: How I Learned to Stop Worrying and Love the Bomb'), Document(id='Oxcy1Sr-49', name='Patton')]\n",
        "\n",
        "[Document(id='Oxcy1Sr-12', name='The Godfather: Part II'), Document(id='Oxcy1Sr-98', name='The Third Man'), Document(id='Oxcy1Sr-81', name='The Green Mile'), Document(id='Oxcy1Sr-35', name='Gladiator'), Document(id='Oxcy1Sr-91', name='The Maltese Falcon')]\n",
        "\n",
        "[Document(id='Oxcy1Sr-59', name='The Pianist'), Document(id='Oxcy1Sr-23', name='The Silence of the Lambs'), Document(id='Oxcy1Sr-95', name='Double Indemnity'), Document(id='Oxcy1Sr-50', name='Jaws'), Document(id='Oxcy1Sr-6', name=\"One Flew Over the Cuckoo's Nest\")]\n",
        "\n",
        "[Document(id='Oxcy1Sr-24', name='Chinatown'), Document(id='Oxcy1Sr-10', name='Titanic'), Document(id='Oxcy1Sr-86', name='American Graffiti'), Document(id='Oxcy1Sr-78', name='Giant'), Document(id='Oxcy1Sr-48', name='Doctor Zhivago')]\n",
        "\n",
        "[Document(id='Oxcy1Sr-32', name='Apocalypse Now'), Document(id='Oxcy1Sr-70', name='Mr. Smith Goes to Washington'), Document(id='Oxcy1Sr-58', name='Dances with Wolves'), Document(id='Oxcy1Sr-71', name='Rain Man'), Document(id='Oxcy1Sr-62', name='The Deer Hunter')]\n",
        "\n",
        "[Document(id='Oxcy1Sr-14', name='Sunset Blvd.'), Document(id='Oxcy1Sr-67', name='It Happened One Night'), Document(id='Oxcy1Sr-1', name='The Godfather'), Document(id='Oxcy1Sr-74', name='Good Will Hunting'), Document(id='Oxcy1Sr-36', name='From Here to Eternity')]\n",
        "\n",
        "[Document(id='Oxcy1Sr-44', name='An American in Paris'), Document(id='Oxcy1Sr-34', name='The Lord of the Rings: The Return of the King'), Document(id='Oxcy1Sr-53', name='Butch Cassidy and the Sundance Kid'), Document(id='Oxcy1Sr-31', name='Amadeus'), Document(id='Oxcy1Sr-39', name='Raiders of the Lost Ark')]\n",
        "\n",
        "[Document(id='Oxcy1Sr-85', name='The Graduate'), Document(id='Oxcy1Sr-73', name='Out of Africa'), Document(id='Oxcy1Sr-17', name='Forrest Gump'), Document(id='Oxcy1Sr-27', name=\"It's a Wonderful Life\"), Document(id='Oxcy1Sr-57', name='High Noon')]\n",
        "\n",
        "[Document(id='Oxcy1Sr-96', name='Rebel Without a Cause'), Document(id='Oxcy1Sr-29', name='12 Angry Men'), Document(id='Oxcy1Sr-15', name='Vertigo'), Document(id='Oxcy1Sr-9', name='The Wizard of Oz'), Document(id='Oxcy1Sr-40', name='Rocky')]\n",
        "\n",
        "[Document(id='Oxcy1Sr-3', name=\"Schindler's List\"), Document(id='Oxcy1Sr-83', name='Network'), Document(id='Oxcy1Sr-37', name='Saving Private Ryan'), Document(id='Oxcy1Sr-2', name='The Shawshank Redemption'), Document(id='Oxcy1Sr-87', name='Pulp Fiction')]\n",
        "\n",
        "[Document(id='Oxcy1Sr-55', name='The Apartment'), Document(id='Oxcy1Sr-84', name='Nashville'), Document(id='Oxcy1Sr-5', name='Casablanca'), Document(id='Oxcy1Sr-75', name='Terms of Endearment'), Document(id='Oxcy1Sr-94', name='Wuthering Heights')]\n",
        "\n",
        "[Document(id='Oxcy1Sr-33', name='Gandhi'), Document(id='Oxcy1Sr-8', name='Citizen Kane'), Document(id='Oxcy1Sr-25', name='The Bridge on the River Kwai'), Document(id='Oxcy1Sr-88', name='The African Queen'), Document(id='Oxcy1Sr-52', name='The Good, the Bad and the Ugly')]\n",
        "\n",
        "[Document(id='Oxcy1Sr-100', name='Yankee Doodle Dandy'), Document(id='Oxcy1Sr-28', name='Some Like It Hot'), Document(id='Oxcy1Sr-7', name='Gone with the Wind'), Document(id='Oxcy1Sr-64', name='The French Connection'), Document(id='Oxcy1Sr-93', name='Taxi Driver')]\n",
        "\n",
        "[Document(id='Oxcy1Sr-99', name='North by Northwest'), Document(id='Oxcy1Sr-68', name='A Place in the Sun'), Document(id='Oxcy1Sr-80', name='Shane'), Document(id='Oxcy1Sr-69', name='Midnight Cowboy'), Document(id='Oxcy1Sr-51', name='Braveheart')]\n",
        "\n",
        "[Document(id='Oxcy1Sr-63', name='All Quiet on the Western Front'), Document(id='Oxcy1Sr-16', name='On the Waterfront'), Document(id='Oxcy1Sr-77', name='Fargo'), Document(id='Oxcy1Sr-22', name='2001: A Space Odyssey'), Document(id='Oxcy1Sr-13', name='Psycho')]\n",
        "\n",
        "[Document(id='Oxcy1Sr-18', name='The Sound of Music'), Document(id='Oxcy1Sr-89', name='Stagecoach'), Document(id='Oxcy1Sr-11', name='Lawrence of Arabia'), Document(id='Oxcy1Sr-45', name='The Best Years of Our Lives'), Document(id='Oxcy1Sr-82', name='Close Encounters of the Third Kind')]\n",
        "\n",
        "[Document(id='Oxcy1Sr-20', name='Star Wars'), Document(id='Oxcy1Sr-76', name='Tootsie'), Document(id='Oxcy1Sr-65', name='City Lights'), Document(id='Oxcy1Sr-66', name=\"The King's Speech\"), Document(id='Oxcy1Sr-92', name='A Clockwork Orange')]\n",
        "\n",
        "[Document(id='Oxcy1Sr-56', name='Platoon'), Document(id='Oxcy1Sr-21', name='E.T. the Extra-Terrestrial'), Document(id='Oxcy1Sr-43', name='To Kill a Mockingbird'), Document(id='Oxcy1Sr-38', name='Unforgiven'), Document(id='Oxcy1Sr-54', name='The Treasure of the Sierra Madre')]\n",
        "\n"
       ]
      }
     ],
     "prompt_number": 398
    },
    {
     "cell_type": "code",
     "collapsed": false,
     "input": [
      "from sklearn.cluster import KMeans\n",
      "\n",
      "num_clusters = 5\n",
      "\n",
      "km = KMeans(n_clusters=num_clusters)\n",
      "\n",
      "%time km.fit(tfidf_matrix)\n",
      "\n",
      "clusters = km.labels_.tolist()"
     ],
     "language": "python",
     "metadata": {},
     "outputs": [
      {
       "output_type": "stream",
       "stream": "stdout",
       "text": [
        "CPU times: user 181 ms, sys: 3.02 ms, total: 184 ms\n",
        "Wall time: 197 ms\n"
       ]
      }
     ],
     "prompt_number": 452
    },
    {
     "cell_type": "code",
     "collapsed": false,
     "input": [
      "import pandas as pd\n",
      "\n",
      "films = { 'title': titles, 'rank': ranks, 'synopsis': synopses, 'cluster': clusters, 'genre': genres }\n",
      "\n",
      "frame = pd.DataFrame(films, index = [clusters] , columns = ['rank', 'title', 'cluster', 'genre'])"
     ],
     "language": "python",
     "metadata": {},
     "outputs": [],
     "prompt_number": 453
    },
    {
     "cell_type": "code",
     "collapsed": false,
     "input": [
      "frame['cluster'].value_counts()"
     ],
     "language": "python",
     "metadata": {},
     "outputs": [
      {
       "metadata": {},
       "output_type": "pyout",
       "prompt_number": 454,
       "text": [
        "3    28\n",
        "2    25\n",
        "4    21\n",
        "0    15\n",
        "1    11\n",
        "dtype: int64"
       ]
      }
     ],
     "prompt_number": 454
    },
    {
     "cell_type": "code",
     "collapsed": false,
     "input": [
      "grouped = frame['rank'].groupby(frame['cluster'])\n",
      "\n",
      "grouped.mean()"
     ],
     "language": "python",
     "metadata": {},
     "outputs": [
      {
       "metadata": {},
       "output_type": "pyout",
       "prompt_number": 456,
       "text": [
        "cluster\n",
        "0          42.600000\n",
        "1          54.454545\n",
        "2          50.200000\n",
        "3          54.678571\n",
        "4          44.095238\n",
        "dtype: float64"
       ]
      }
     ],
     "prompt_number": 456
    },
    {
     "cell_type": "code",
     "collapsed": false,
     "input": [
      "frame.ix[4]"
     ],
     "language": "python",
     "metadata": {},
     "outputs": [
      {
       "html": [
        "<div style=\"max-height:1000px;max-width:1500px;overflow:auto;\">\n",
        "<table border=\"1\" class=\"dataframe\">\n",
        "  <thead>\n",
        "    <tr style=\"text-align: right;\">\n",
        "      <th></th>\n",
        "      <th>rank</th>\n",
        "      <th>title</th>\n",
        "      <th>cluster</th>\n",
        "      <th>genre</th>\n",
        "    </tr>\n",
        "  </thead>\n",
        "  <tbody>\n",
        "    <tr>\n",
        "      <th>4</th>\n",
        "      <td>  1</td>\n",
        "      <td>                          The Shawshank Redemption</td>\n",
        "      <td> 4</td>\n",
        "      <td>                            [u' Crime', u' Drama']</td>\n",
        "    </tr>\n",
        "    <tr>\n",
        "      <th>4</th>\n",
        "      <td>  5</td>\n",
        "      <td>                   One Flew Over the Cuckoo's Nest</td>\n",
        "      <td> 4</td>\n",
        "      <td>                                       [u' Drama']</td>\n",
        "    </tr>\n",
        "    <tr>\n",
        "      <th>4</th>\n",
        "      <td>  9</td>\n",
        "      <td>                                           Titanic</td>\n",
        "      <td> 4</td>\n",
        "      <td>                          [u' Drama', u' Romance']</td>\n",
        "    </tr>\n",
        "    <tr>\n",
        "      <th>4</th>\n",
        "      <td> 10</td>\n",
        "      <td>                                Lawrence of Arabia</td>\n",
        "      <td> 4</td>\n",
        "      <td> [u' Adventure', u' Biography', u' Drama', u' H...</td>\n",
        "    </tr>\n",
        "    <tr>\n",
        "      <th>4</th>\n",
        "      <td> 24</td>\n",
        "      <td>                      The Bridge on the River Kwai</td>\n",
        "      <td> 4</td>\n",
        "      <td>               [u' Adventure', u' Drama', u' War']</td>\n",
        "    </tr>\n",
        "    <tr>\n",
        "      <th>4</th>\n",
        "      <td> 29</td>\n",
        "      <td> Dr. Strangelove or: How I Learned to Stop Worr...</td>\n",
        "      <td> 4</td>\n",
        "      <td>                             [u' Comedy', u' War']</td>\n",
        "    </tr>\n",
        "    <tr>\n",
        "      <th>4</th>\n",
        "      <td> 31</td>\n",
        "      <td>                                    Apocalypse Now</td>\n",
        "      <td> 4</td>\n",
        "      <td>                              [u' Drama', u' War']</td>\n",
        "    </tr>\n",
        "    <tr>\n",
        "      <th>4</th>\n",
        "      <td> 32</td>\n",
        "      <td>                                            Gandhi</td>\n",
        "      <td> 4</td>\n",
        "      <td>           [u' Biography', u' Drama', u' History']</td>\n",
        "    </tr>\n",
        "    <tr>\n",
        "      <th>4</th>\n",
        "      <td> 35</td>\n",
        "      <td>                             From Here to Eternity</td>\n",
        "      <td> 4</td>\n",
        "      <td>                 [u' Drama', u' Romance', u' War']</td>\n",
        "    </tr>\n",
        "    <tr>\n",
        "      <th>4</th>\n",
        "      <td> 48</td>\n",
        "      <td>                                            Patton</td>\n",
        "      <td> 4</td>\n",
        "      <td>               [u' Biography', u' Drama', u' War']</td>\n",
        "    </tr>\n",
        "    <tr>\n",
        "      <th>4</th>\n",
        "      <td> 49</td>\n",
        "      <td>                                              Jaws</td>\n",
        "      <td> 4</td>\n",
        "      <td>                         [u' Drama', u' Thriller']</td>\n",
        "    </tr>\n",
        "    <tr>\n",
        "      <th>4</th>\n",
        "      <td> 52</td>\n",
        "      <td>                Butch Cassidy and the Sundance Kid</td>\n",
        "      <td> 4</td>\n",
        "      <td>           [u' Biography', u' Crime', u' Western']</td>\n",
        "    </tr>\n",
        "    <tr>\n",
        "      <th>4</th>\n",
        "      <td> 53</td>\n",
        "      <td>                  The Treasure of the Sierra Madre</td>\n",
        "      <td> 4</td>\n",
        "      <td> [u' Action', u' Adventure', u' Drama', u' West...</td>\n",
        "    </tr>\n",
        "    <tr>\n",
        "      <th>4</th>\n",
        "      <td> 55</td>\n",
        "      <td>                                           Platoon</td>\n",
        "      <td> 4</td>\n",
        "      <td>                              [u' Drama', u' War']</td>\n",
        "    </tr>\n",
        "    <tr>\n",
        "      <th>4</th>\n",
        "      <td> 56</td>\n",
        "      <td>                                         High Noon</td>\n",
        "      <td> 4</td>\n",
        "      <td>                                     [u' Western']</td>\n",
        "    </tr>\n",
        "    <tr>\n",
        "      <th>4</th>\n",
        "      <td> 57</td>\n",
        "      <td>                                Dances with Wolves</td>\n",
        "      <td> 4</td>\n",
        "      <td>           [u' Adventure', u' Drama', u' Western']</td>\n",
        "    </tr>\n",
        "    <tr>\n",
        "      <th>4</th>\n",
        "      <td> 61</td>\n",
        "      <td>                                   The Deer Hunter</td>\n",
        "      <td> 4</td>\n",
        "      <td>                              [u' Drama', u' War']</td>\n",
        "    </tr>\n",
        "    <tr>\n",
        "      <th>4</th>\n",
        "      <td> 62</td>\n",
        "      <td>                    All Quiet on the Western Front</td>\n",
        "      <td> 4</td>\n",
        "      <td>                              [u' Drama', u' War']</td>\n",
        "    </tr>\n",
        "    <tr>\n",
        "      <th>4</th>\n",
        "      <td> 80</td>\n",
        "      <td>                                    The Green Mile</td>\n",
        "      <td> 4</td>\n",
        "      <td>  [u' Crime', u' Drama', u' Fantasy', u' Mystery']</td>\n",
        "    </tr>\n",
        "    <tr>\n",
        "      <th>4</th>\n",
        "      <td> 88</td>\n",
        "      <td>                                        Stagecoach</td>\n",
        "      <td> 4</td>\n",
        "      <td>                      [u' Adventure', u' Western']</td>\n",
        "    </tr>\n",
        "    <tr>\n",
        "      <th>4</th>\n",
        "      <td> 89</td>\n",
        "      <td>                              Mutiny on the Bounty</td>\n",
        "      <td> 4</td>\n",
        "      <td>           [u' Adventure', u' Drama', u' History']</td>\n",
        "    </tr>\n",
        "  </tbody>\n",
        "</table>\n",
        "</div>"
       ],
       "metadata": {},
       "output_type": "pyout",
       "prompt_number": 457,
       "text": [
        "   rank                                              title  cluster  \\\n",
        "4     1                           The Shawshank Redemption        4   \n",
        "4     5                    One Flew Over the Cuckoo's Nest        4   \n",
        "4     9                                            Titanic        4   \n",
        "4    10                                 Lawrence of Arabia        4   \n",
        "4    24                       The Bridge on the River Kwai        4   \n",
        "4    29  Dr. Strangelove or: How I Learned to Stop Worr...        4   \n",
        "4    31                                     Apocalypse Now        4   \n",
        "4    32                                             Gandhi        4   \n",
        "4    35                              From Here to Eternity        4   \n",
        "4    48                                             Patton        4   \n",
        "4    49                                               Jaws        4   \n",
        "4    52                 Butch Cassidy and the Sundance Kid        4   \n",
        "4    53                   The Treasure of the Sierra Madre        4   \n",
        "4    55                                            Platoon        4   \n",
        "4    56                                          High Noon        4   \n",
        "4    57                                 Dances with Wolves        4   \n",
        "4    61                                    The Deer Hunter        4   \n",
        "4    62                     All Quiet on the Western Front        4   \n",
        "4    80                                     The Green Mile        4   \n",
        "4    88                                         Stagecoach        4   \n",
        "4    89                               Mutiny on the Bounty        4   \n",
        "\n",
        "                                               genre  \n",
        "4                             [u' Crime', u' Drama']  \n",
        "4                                        [u' Drama']  \n",
        "4                           [u' Drama', u' Romance']  \n",
        "4  [u' Adventure', u' Biography', u' Drama', u' H...  \n",
        "4                [u' Adventure', u' Drama', u' War']  \n",
        "4                              [u' Comedy', u' War']  \n",
        "4                               [u' Drama', u' War']  \n",
        "4            [u' Biography', u' Drama', u' History']  \n",
        "4                  [u' Drama', u' Romance', u' War']  \n",
        "4                [u' Biography', u' Drama', u' War']  \n",
        "4                          [u' Drama', u' Thriller']  \n",
        "4            [u' Biography', u' Crime', u' Western']  \n",
        "4  [u' Action', u' Adventure', u' Drama', u' West...  \n",
        "4                               [u' Drama', u' War']  \n",
        "4                                      [u' Western']  \n",
        "4            [u' Adventure', u' Drama', u' Western']  \n",
        "4                               [u' Drama', u' War']  \n",
        "4                               [u' Drama', u' War']  \n",
        "4   [u' Crime', u' Drama', u' Fantasy', u' Mystery']  \n",
        "4                       [u' Adventure', u' Western']  \n",
        "4            [u' Adventure', u' Drama', u' History']  "
       ]
      }
     ],
     "prompt_number": 457
    },
    {
     "cell_type": "code",
     "collapsed": false,
     "input": [
      "order_centroids.shape"
     ],
     "language": "python",
     "metadata": {},
     "outputs": [
      {
       "metadata": {},
       "output_type": "pyout",
       "prompt_number": 458,
       "text": [
        "(15, 543)"
       ]
      }
     ],
     "prompt_number": 458
    },
    {
     "cell_type": "code",
     "collapsed": false,
     "input": [
      "km.cluster_centers_.shape"
     ],
     "language": "python",
     "metadata": {},
     "outputs": [
      {
       "metadata": {},
       "output_type": "pyout",
       "prompt_number": 459,
       "text": [
        "(5, 543)"
       ]
      }
     ],
     "prompt_number": 459
    },
    {
     "cell_type": "code",
     "collapsed": false,
     "input": [
      "tfidf_matrix.shape"
     ],
     "language": "python",
     "metadata": {},
     "outputs": [
      {
       "metadata": {},
       "output_type": "pyout",
       "prompt_number": 460,
       "text": [
        "(100, 543)"
       ]
      }
     ],
     "prompt_number": 460
    },
    {
     "cell_type": "code",
     "collapsed": false,
     "input": [
      "from __future__ import print_function\n",
      "\n",
      "print(\"Top terms per cluster:\")\n",
      "print()\n",
      "order_centroids = km.cluster_centers_.argsort()[:, ::-1]\n",
      "for i in range(num_clusters):\n",
      "    print(\"Cluster %d words:\" % i, end='')\n",
      "    for ind in order_centroids[i, :30]:\n",
      "        print(' %s' % vocab_frame.ix[terms[ind]].values.tolist()[0][0].encode('utf-8', 'ignore'), end='')\n",
      "    print()\n",
      "    print()\n",
      "    print(\"Cluster %d titles:\" % i, end='')\n",
      "    for title in frame.ix[i]['title'].values.tolist():\n",
      "        print(' %s,' % title, end='')\n",
      "    print()\n",
      "    print()"
     ],
     "language": "python",
     "metadata": {},
     "outputs": [
      {
       "output_type": "stream",
       "stream": "stdout",
       "text": [
        "Top terms per cluster:\n",
        "\n",
        "Cluster 0 words: germans family war"
       ]
      },
      {
       "output_type": "stream",
       "stream": "stdout",
       "text": [
        " camps army"
       ]
      },
      {
       "output_type": "stream",
       "stream": "stdout",
       "text": [
        " tom capture"
       ]
      },
      {
       "output_type": "stream",
       "stream": "stdout",
       "text": [
        " son forces"
       ]
      },
      {
       "output_type": "stream",
       "stream": "stdout",
       "text": [
        " way destroy execution"
       ]
      },
      {
       "output_type": "stream",
       "stream": "stdout",
       "text": [
        " father escape robert"
       ]
      },
      {
       "output_type": "stream",
       "stream": "stdout",
       "text": [
        " guards leads house"
       ]
      },
      {
       "output_type": "stream",
       "stream": "stdout",
       "text": [
        " sister hides letters"
       ]
      },
      {
       "output_type": "stream",
       "stream": "stdout",
       "text": [
        " wife world"
       ]
      },
      {
       "output_type": "stream",
       "stream": "stdout",
       "text": [
        " boat offer"
       ]
      },
      {
       "output_type": "stream",
       "stream": "stdout",
       "text": [
        " brothers ii"
       ]
      },
      {
       "output_type": "stream",
       "stream": "stdout",
       "text": [
        " general mother city"
       ]
      },
      {
       "output_type": "stream",
       "stream": "stdout",
       "text": [
        "\n",
        "\n",
        "Cluster 0 titles: Schindler's List, Casablanca, The Wizard of Oz, The Godfather: Part II, Star Wars, Gladiator, Saving Private Ryan, Ben-Hur, Doctor Zhivago, Braveheart, The Pianist, Giant, The Grapes of Wrath, Network, The African Queen,\n",
        "\n",
        "Cluster 1 words: george henry bar"
       ]
      },
      {
       "output_type": "stream",
       "stream": "stdout",
       "text": [
        " apartment singing stage"
       ]
      },
      {
       "output_type": "stream",
       "stream": "stdout",
       "text": [
        " family dance"
       ]
      },
      {
       "output_type": "stream",
       "stream": "stdout",
       "text": [
        " music jame"
       ]
      },
      {
       "output_type": "stream",
       "stream": "stdout",
       "text": [
        " perform wedding"
       ]
      },
      {
       "output_type": "stream",
       "stream": "stdout",
       "text": [
        " york marries"
       ]
      },
      {
       "output_type": "stream",
       "stream": "stdout",
       "text": [
        " audience talking"
       ]
      },
      {
       "output_type": "stream",
       "stream": "stdout",
       "text": [
        " father joins"
       ]
      },
      {
       "output_type": "stream",
       "stream": "stdout",
       "text": [
        " mary hope"
       ]
      },
      {
       "output_type": "stream",
       "stream": "stdout",
       "text": [
        " party produce"
       ]
      },
      {
       "output_type": "stream",
       "stream": "stdout",
       "text": [
        " believed second"
       ]
      },
      {
       "output_type": "stream",
       "stream": "stdout",
       "text": [
        " recording woman"
       ]
      },
      {
       "output_type": "stream",
       "stream": "stdout",
       "text": [
        " war john acting"
       ]
      },
      {
       "output_type": "stream",
       "stream": "stdout",
       "text": [
        " boy\n",
        "\n",
        "Cluster 1 titles: Singin' in the Rain, It's a Wonderful Life, The Philadelphia Story, An American in Paris, The Good, the Bad and the Ugly, The Apartment, Goodfellas, The King's Speech, A Place in the Sun, Mr. Smith Goes to Washington, Yankee Doodle Dandy,\n",
        "\n",
        "Cluster 2 words: relationship"
       ]
      },
      {
       "output_type": "stream",
       "stream": "stdout",
       "text": [
        " woman marriage"
       ]
      },
      {
       "output_type": "stream",
       "stream": "stdout",
       "text": [
        " mr. marries"
       ]
      },
      {
       "output_type": "stream",
       "stream": "stdout",
       "text": [
        " wife n't fight"
       ]
      },
      {
       "output_type": "stream",
       "stream": "stdout",
       "text": [
        " york affair"
       ]
      },
      {
       "output_type": "stream",
       "stream": "stdout",
       "text": [
        " story eventually father"
       ]
      },
      {
       "output_type": "stream",
       "stream": "stdout",
       "text": [
        " mother little"
       ]
      },
      {
       "output_type": "stream",
       "stream": "stdout",
       "text": [
        " refuses house because"
       ]
      },
      {
       "output_type": "stream",
       "stream": "stdout",
       "text": [
        " children once"
       ]
      },
      {
       "output_type": "stream",
       "stream": "stdout",
       "text": [
        " hotel apartment party"
       ]
      },
      {
       "output_type": "stream",
       "stream": "stdout",
       "text": [
        " brothers neighbor sex"
       ]
      },
      {
       "output_type": "stream",
       "stream": "stdout",
       "text": [
        " way god point"
       ]
      },
      {
       "output_type": "stream",
       "stream": "stdout",
       "text": [
        " visit\n",
        "\n",
        "Cluster 2 titles: Raging Bull, Gone with the Wind, Citizen Kane, Sunset Blvd., Vertigo, Forrest Gump, Some Like It Hot, 12 Angry Men, Amadeus, Unforgiven, Rocky, A Streetcar Named Desire, My Fair Lady, Midnight Cowboy, Rain Man, Annie Hall, Out of Africa, Good Will Hunting, Terms of Endearment, Tootsie, Nashville, The Graduate, A Clockwork Orange, Wuthering Heights, Rear Window,\n",
        "\n",
        "Cluster 3 words: police father"
       ]
      },
      {
       "output_type": "stream",
       "stream": "stdout",
       "text": [
        " murders car"
       ]
      },
      {
       "output_type": "stream",
       "stream": "stdout",
       "text": [
        " shoots gun"
       ]
      },
      {
       "output_type": "stream",
       "stream": "stdout",
       "text": [
        " peter"
       ]
      },
      {
       "output_type": "stream",
       "stream": "stdout",
       "text": [
        " confronted information"
       ]
      },
      {
       "output_type": "stream",
       "stream": "stdout",
       "text": [
        " drives investigating"
       ]
      },
      {
       "output_type": "stream",
       "stream": "stdout",
       "text": [
        " phones captain"
       ]
      },
      {
       "output_type": "stream",
       "stream": "stdout",
       "text": [
        " tom watches mysterious"
       ]
      },
      {
       "output_type": "stream",
       "stream": "stdout",
       "text": [
        " train mother fight"
       ]
      },
      {
       "output_type": "stream",
       "stream": "stdout",
       "text": [
        " flee appearance"
       ]
      },
      {
       "output_type": "stream",
       "stream": "stdout",
       "text": [
        " escape family"
       ]
      },
      {
       "output_type": "stream",
       "stream": "stdout",
       "text": [
        " claimed apartment officers"
       ]
      },
      {
       "output_type": "stream",
       "stream": "stdout",
       "text": [
        " forces agents bodies"
       ]
      },
      {
       "output_type": "stream",
       "stream": "stdout",
       "text": [
        " deal\n",
        "\n",
        "Cluster 3 titles: The Godfather, Psycho, On the Waterfront, The Sound of Music, West Side Story, E.T. the Extra-Terrestrial, 2001: A Space Odyssey, The Silence of the Lambs, Chinatown, The Lord of the Rings: The Return of the King, Raiders of the Lost Ark, To Kill a Mockingbird, The Best Years of Our Lives, The Exorcist, The French Connection, City Lights, It Happened One Night, Fargo, Shane, Close Encounters of the Third Kind, American Graffiti, Pulp Fiction, The Maltese Falcon, Taxi Driver, Double Indemnity, Rebel Without a Cause, The Third Man, North by Northwest,\n",
        "\n",
        "Cluster 4 words: soldier"
       ]
      },
      {
       "output_type": "stream",
       "stream": "stdout",
       "text": [
        " village command"
       ]
      },
      {
       "output_type": "stream",
       "stream": "stdout",
       "text": [
        " british john"
       ]
      },
      {
       "output_type": "stream",
       "stream": "stdout",
       "text": [
        " attacks officers"
       ]
      },
      {
       "output_type": "stream",
       "stream": "stdout",
       "text": [
        " army general prison"
       ]
      },
      {
       "output_type": "stream",
       "stream": "stdout",
       "text": [
        " group war"
       ]
      },
      {
       "output_type": "stream",
       "stream": "stdout",
       "text": [
        " jack chief"
       ]
      },
      {
       "output_type": "stream",
       "stream": "stdout",
       "text": [
        " wounded town"
       ]
      },
      {
       "output_type": "stream",
       "stream": "stdout",
       "text": [
        " men captain strikes"
       ]
      },
      {
       "output_type": "stream",
       "stream": "stdout",
       "text": [
        " boat water"
       ]
      },
      {
       "output_type": "stream",
       "stream": "stdout",
       "text": [
        " battles guards"
       ]
      },
      {
       "output_type": "stream",
       "stream": "stdout",
       "text": [
        " escape americans"
       ]
      },
      {
       "output_type": "stream",
       "stream": "stdout",
       "text": [
        " fight train reach"
       ]
      },
      {
       "output_type": "stream",
       "stream": "stdout",
       "text": [
        " gang major\n",
        "\n",
        "Cluster 4 titles: The Shawshank Redemption, One Flew Over the Cuckoo's Nest, Titanic, Lawrence of Arabia, The Bridge on the River Kwai, Dr. Strangelove or: How I Learned to Stop Worrying and Love the Bomb, Apocalypse Now, Gandhi, From Here to Eternity, Patton, Jaws, Butch Cassidy and the Sundance Kid, The Treasure of the Sierra Madre, Platoon, High Noon, Dances with Wolves, The Deer Hunter, All Quiet on the Western Front, The Green Mile, Stagecoach, Mutiny on the Bounty,\n",
        "\n"
       ]
      }
     ],
     "prompt_number": 461
    },
    {
     "cell_type": "code",
     "collapsed": false,
     "input": [
      "order_centroids.shape"
     ],
     "language": "python",
     "metadata": {},
     "outputs": [
      {
       "metadata": {},
       "output_type": "pyout",
       "prompt_number": 462,
       "text": [
        "(5, 543)"
       ]
      }
     ],
     "prompt_number": 462
    },
    {
     "cell_type": "code",
     "collapsed": false,
     "input": [
      "vocab.shape"
     ],
     "language": "python",
     "metadata": {},
     "outputs": [
      {
       "metadata": {},
       "output_type": "pyout",
       "prompt_number": 463,
       "text": [
        "(7726,)"
       ]
      }
     ],
     "prompt_number": 463
    },
    {
     "cell_type": "code",
     "collapsed": false,
     "input": [
      "import os  # for os.path.basename\n",
      "\n",
      "import matplotlib.pyplot as plt\n",
      "import matplotlib as mpl\n",
      "\n",
      "from sklearn.manifold import MDS\n",
      "\n",
      "\n",
      "# two components as we're plotting points in a two-dimensional plane\n",
      "# \"precomputed\" because we provide a distance matrix\n",
      "# we will also specify `random_state` so the plot is reproducible.\n",
      "mds = MDS(n_components=2, dissimilarity=\"precomputed\", random_state=1)\n",
      "\n",
      "pos = mds.fit_transform(dist)  # shape (n_components, n_samples)\n",
      "\n",
      "xs, ys = pos[:, 0], pos[:, 1]"
     ],
     "language": "python",
     "metadata": {},
     "outputs": [],
     "prompt_number": 464
    },
    {
     "cell_type": "code",
     "collapsed": false,
     "input": [
      "df = pd.DataFrame(dict(x=xs, y=ys, label=clusters, title=titles))\n",
      "\n",
      "groups = df.groupby('label')\n",
      "\n",
      "# Plot\n",
      "fig, ax = plt.subplots(figsize=(17,9))\n",
      "ax.margins(0.05) # Optional, just adds 5% padding to the autoscaling\n",
      "\n",
      "for name, group in groups:\n",
      "    ax.plot(group.x, group.y, marker='o', linestyle='', ms=12, label=name)\n",
      "    ax.set_aspect('auto')\n",
      "ax.legend(numpoints=1)\n",
      "\n",
      "for i in range(len(df)):\n",
      "    ax.text(df.ix[i]['x'], df.ix[i]['y'], df.ix[i]['title'], size=8)\n",
      "\n",
      "plt.tight_layout()\n",
      "plt.show()"
     ],
     "language": "python",
     "metadata": {},
     "outputs": [],
     "prompt_number": 465
    },
    {
     "cell_type": "code",
     "collapsed": false,
     "input": [
      "plt.close()"
     ],
     "language": "python",
     "metadata": {},
     "outputs": [],
     "prompt_number": 40
    }
   ],
   "metadata": {}
  }
 ]
}